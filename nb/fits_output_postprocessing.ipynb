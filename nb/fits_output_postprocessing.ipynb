{
 "cells": [
  {
   "cell_type": "code",
   "execution_count": 1,
   "metadata": {
    "collapsed": true
   },
   "outputs": [],
   "source": [
    "# IMPORT THE PACKAGE NEEDED TO PROCESS A GENERATED MOCK CATALOG\n",
    "import sys\n",
    "sys.path.append(\"../py\")\n",
    "\n",
    "import catalog as catalog\n",
    "import galaxy as galaxy\n",
    "import numpy as np\n",
    "\n",
    "from astropy.io import fits"
   ]
  },
  {
   "cell_type": "code",
   "execution_count": 2,
   "metadata": {
    "collapsed": true
   },
   "outputs": [],
   "source": [
    "# IN THIS EXAMPLE, WE DEMONSTRATE WHAT THE CONTENT OF THE FITS OUTPUT IS AND \n",
    "# SOME POST-PROCESSING A USER CAN PERFORM\n",
    "hdu    = fits.open(\"/FITS_FILENAME/\")\n",
    "header = hdu[1].header\n",
    "data   = hdu[1].data"
   ]
  },
  {
   "cell_type": "code",
   "execution_count": 3,
   "metadata": {
    "scrolled": true
   },
   "outputs": [
    {
     "data": {
      "text/plain": [
       "XTENSION= 'BINTABLE'           / binary table extension                         \n",
       "BITPIX  =                    8 / array data type                                \n",
       "NAXIS   =                    2 / number of array dimensions                     \n",
       "NAXIS1  =                   52 / length of dimension 1                          \n",
       "NAXIS2  =               815403 / length of dimension 2                          \n",
       "PCOUNT  =                    0 / number of group parameters                     \n",
       "GCOUNT  =                    1 / number of groups                               \n",
       "TFIELDS =                    7 / number of table fields                         \n",
       "H_0     =                 70.0                                                  \n",
       "OMEGA_M0=                 0.31                                                  \n",
       "R_BAO   =                153.0                                                  \n",
       "HIERARCH sig_r_BAO = 5.0                                                        \n",
       "GAMMA   =                  1.8                                                  \n",
       "R_0     =    14.28571428571429                                                  \n",
       "N_RAND  =              5000000                                                  \n",
       "N_CENTER=                20000                                                  \n",
       "N_RIM   =                   15                                                  \n",
       "N_FLAT  =               350000                                                  \n",
       "NR_CL   =                10000                                                  \n",
       "N_CL    =                   25                                                  \n",
       "HIERARCH n_cl_center = 25                                                       \n",
       "A       =                  1.0                                                  \n",
       "B       =                  1.0                                                  \n",
       "TTYPE1  = 'z       '                                                            \n",
       "TFORM1  = 'E       '                                                            \n",
       "TTYPE2  = 'ra      '                                                            \n",
       "TFORM2  = 'E       '                                                            \n",
       "TTYPE3  = 'dec     '                                                            \n",
       "TFORM3  = 'E       '                                                            \n",
       "TTYPE4  = 'weight  '                                                            \n",
       "TFORM4  = 'E       '                                                            \n",
       "TTYPE5  = 'TYPE    '                                                            \n",
       "TFORM5  = 'J       '                                                            \n",
       "TTYPE6  = 'parent  '                                                            \n",
       "TFORM6  = '16A     '                                                            \n",
       "TTYPE7  = 'name    '                                                            \n",
       "TFORM7  = '16A     '                                                            "
      ]
     },
     "execution_count": 3,
     "metadata": {},
     "output_type": "execute_result"
    }
   ],
   "source": [
    "# HERE IS THE HEADER THAT STORES ALL THE INFORMATION USED FOR GENERATING \n",
    "# THE MOCK CATALOG\n",
    "header"
   ]
  },
  {
   "cell_type": "code",
   "execution_count": 4,
   "metadata": {},
   "outputs": [
    {
     "name": "stdout",
     "output_type": "stream",
     "text": [
      "name:   rim_12869_12\n",
      "ra:     -203.59201049804688\n",
      "dec:    6.770262241363525\n",
      "z:      0.6575741171836853\n",
      "parent: cen_12869\n",
      "\n",
      "Parent galaxy of the rim galaxy\n",
      "name:   ['cen_12869']\n",
      "ra:     [-202.30122375]\n",
      "dec:    [ 3.57380295]\n",
      "z:      [ 0.67488503]\n",
      "parent: ['None']\n"
     ]
    }
   ],
   "source": [
    "# LET'S PICK A RANDOM GALAXY FROM THE CATALOG\n",
    "# USER SHOULD BE AWARE THAT THE INDIVIDUAL GALAXY CATEGORIES ARE UNSORTED IN THE FITS FILE\n",
    "# WHEREAS THE CATEGORIES ARE SORTED AS CENTER, RIM, FLAT, CENTER_SEEDED_CLUMPS, RIM_SEEDED_CLUMPS, FLAT_SEED_CLUMPS\n",
    "\n",
    "# SINCE THERE ARE `N_CENTER` CENTER GALAXIES IN THIS EXAMPLE, WE WILL PICK `N_CENTER+2` TO GET A RIM GALAXY FOR THE \n",
    "# FIRST EXAMPLE. WE PRINT THE INFORMATION OF THE CORRESPONDING GALAXY FOLLOWED BY SOME POST-PROCESSING\n",
    "galaxy_id = header['N_CENTER']+2\n",
    "print(\"name:   {}\\n\"\\\n",
    "      \"ra:     {}\\n\"\\\n",
    "      \"dec:    {}\\n\"\\\n",
    "      \"z:      {}\\n\"\\\n",
    "      \"parent: {}\\n\".format(data['name'][galaxy_id], data['ra'][galaxy_id],\n",
    "                          data['dec'][galaxy_id], data['z'][galaxy_id],\n",
    "                          data['parent'][galaxy_id]))\n",
    "parent_galaxy = (data['name'] == data['parent'][galaxy_id])\n",
    "print(\"Parent galaxy of the rim galaxy\\n\"\\\n",
    "      \"name:   {}\\n\"\\\n",
    "      \"ra:     {}\\n\"\\\n",
    "      \"dec:    {}\\n\"\\\n",
    "      \"z:      {}\\n\"\\\n",
    "      \"parent: {}\".format(data['name'][parent_galaxy], data['ra'][parent_galaxy],\n",
    "                          data['dec'][parent_galaxy], data['z'][parent_galaxy],\n",
    "                          data['parent'][parent_galaxy]))"
   ]
  },
  {
   "cell_type": "code",
   "execution_count": 5,
   "metadata": {},
   "outputs": [
    {
     "name": "stdout",
     "output_type": "stream",
     "text": [
      "name:   flat_96911\n",
      "ra:     -193.81890869140625\n",
      "dec:    32.2857780456543\n",
      "z:      0.5914164781570435\n",
      "parent: None\n",
      "\n"
     ]
    }
   ],
   "source": [
    "# NOW WE TRY THE SAME PROCEDURE FOR A FLAT GALAXY. \n",
    "galaxy_id = header['N_CENTER']+header['N_CENTER']*header['N_RIM']+2\n",
    "print(\"name:   {}\\n\"\\\n",
    "      \"ra:     {}\\n\"\\\n",
    "      \"dec:    {}\\n\"\\\n",
    "      \"z:      {}\\n\"\\\n",
    "      \"parent: {}\\n\".format(data['name'][galaxy_id], data['ra'][galaxy_id],\n",
    "                          data['dec'][galaxy_id], data['z'][galaxy_id],\n",
    "                          data['parent'][galaxy_id]))\n",
    "parent_galaxy = (data['name'] == data['parent'][galaxy_id])\n",
    "\n",
    "# WE DON'T TRY TO GET A PARENT OF FLAT BECAUSE THEY DON'T HAVE PARENTS."
   ]
  },
  {
   "cell_type": "code",
   "execution_count": 6,
   "metadata": {},
   "outputs": [
    {
     "name": "stdout",
     "output_type": "stream",
     "text": [
      "name:   cenClump_15633_-\n",
      "ra:     -157.52816772460938\n",
      "dec:    31.793813705444336\n",
      "z:      0.5005624294281006\n",
      "parent: cen_15633\n",
      "\n",
      "Parent galaxy of the center seeded clump galaxy\n",
      "name:   ['cen_15633']\n",
      "ra:     [-157.89569092]\n",
      "dec:    [ 31.55497742]\n",
      "z:      [ 0.50210202]\n",
      "parent: ['None']\n"
     ]
    }
   ],
   "source": [
    "# NOW WE TRY THE SAME PROCEDURE FOR A CENTER SEEDED CLUMP GALAXY. \n",
    "galaxy_id = header['N_CENTER']+header['N_CENTER']*header['N_RIM']+header['N_FLAT']+2\n",
    "print(\"name:   {}\\n\"\\\n",
    "      \"ra:     {}\\n\"\\\n",
    "      \"dec:    {}\\n\"\\\n",
    "      \"z:      {}\\n\"\\\n",
    "      \"parent: {}\\n\".format(data['name'][galaxy_id], data['ra'][galaxy_id],\n",
    "                          data['dec'][galaxy_id], data['z'][galaxy_id],\n",
    "                          data['parent'][galaxy_id]))\n",
    "parent_galaxy = (data['name'] == data['parent'][galaxy_id])\n",
    "\n",
    "parent_galaxy = (data['name'] == data['parent'][galaxy_id])\n",
    "print(\"Parent galaxy of the center seeded clump galaxy\\n\"\\\n",
    "      \"name:   {}\\n\"\\\n",
    "      \"ra:     {}\\n\"\\\n",
    "      \"dec:    {}\\n\"\\\n",
    "      \"z:      {}\\n\"\\\n",
    "      \"parent: {}\".format(data['name'][parent_galaxy], data['ra'][parent_galaxy],\n",
    "                          data['dec'][parent_galaxy], data['z'][parent_galaxy],\n",
    "                          data['parent'][parent_galaxy]))"
   ]
  },
  {
   "cell_type": "code",
   "execution_count": 7,
   "metadata": {},
   "outputs": [
    {
     "name": "stdout",
     "output_type": "stream",
     "text": [
      "name:   flatClump_95966_\n",
      "ra:     -127.96724700927734\n",
      "dec:    43.35596466064453\n",
      "z:      0.4928082227706909\n",
      "parent: flat_95966\n",
      "\n",
      "Parent galaxy of the center seeded clump galaxy\n",
      "name:   ['flat_95966']\n",
      "ra:     [-131.64045715]\n",
      "dec:    [ 38.44296265]\n",
      "z:      [ 0.51504952]\n",
      "parent: ['None']\n"
     ]
    }
   ],
   "source": [
    "# NOW WE TRY THE SAME PROCEDURE FOR A FLAT SEEDED CLUMP GALAXY. \n",
    "galaxy_id = len(data) - 2\n",
    "print(\"name:   {}\\n\"\\\n",
    "      \"ra:     {}\\n\"\\\n",
    "      \"dec:    {}\\n\"\\\n",
    "      \"z:      {}\\n\"\\\n",
    "      \"parent: {}\\n\".format(data['name'][galaxy_id], data['ra'][galaxy_id],\n",
    "                          data['dec'][galaxy_id], data['z'][galaxy_id],\n",
    "                          data['parent'][galaxy_id]))\n",
    "parent_galaxy = (data['name'] == data['parent'][galaxy_id])\n",
    "\n",
    "parent_galaxy = (data['name'] == data['parent'][galaxy_id])\n",
    "print(\"Parent galaxy of the center seeded clump galaxy\\n\"\\\n",
    "      \"name:   {}\\n\"\\\n",
    "      \"ra:     {}\\n\"\\\n",
    "      \"dec:    {}\\n\"\\\n",
    "      \"z:      {}\\n\"\\\n",
    "      \"parent: {}\".format(data['name'][parent_galaxy], data['ra'][parent_galaxy],\n",
    "                          data['dec'][parent_galaxy], data['z'][parent_galaxy],\n",
    "                          data['parent'][parent_galaxy]))"
   ]
  }
 ],
 "metadata": {
  "kernelspec": {
   "display_name": "Python 3",
   "language": "python",
   "name": "python3"
  },
  "language_info": {
   "codemirror_mode": {
    "name": "ipython",
    "version": 3
   },
   "file_extension": ".py",
   "mimetype": "text/x-python",
   "name": "python",
   "nbconvert_exporter": "python",
   "pygments_lexer": "ipython3",
   "version": "3.5.3"
  }
 },
 "nbformat": 4,
 "nbformat_minor": 2
}
